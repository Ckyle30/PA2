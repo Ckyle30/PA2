{
 "cells": [
  {
   "cell_type": "markdown",
   "id": "d99b7a56-018e-4159-92d8-89c113ac7fb7",
   "metadata": {},
   "source": [
    "#"
   ]
  },
  {
   "cell_type": "markdown",
   "id": "5c2b7b46-373e-432b-9188-bbb59f17844a",
   "metadata": {},
   "source": [
    "# NORMALIZATION"
   ]
  },
  {
   "cell_type": "markdown",
   "id": "a3e75d3c-d5b7-4a10-b14d-ea257cb33502",
   "metadata": {},
   "source": [
    "## Normalization is one of the most basic preprocessing techniques in\n",
    "data analytics. This involves centering and scaling process. Centering means subtracting the data from the\n",
    "mean and scaling means dividing with its standard deviation. Mathematically, normalization can be\n",
    "expressed as: 𝑍 = ( 𝑋 − 𝑥̅ ) / 𝜎\n",
    "In Python, element-wise mean and element-wise standard deviation can be obtained by using .mean() and\n",
    ".std() calls.\n",
    "In this problem, create a random 5 x 5 ndarray and store it to variable X. Normalize X. Save your normalized\n",
    "ndarray as X_normalized.npy"
   ]
  },
  {
   "cell_type": "code",
   "execution_count": 12,
   "id": "468aed80-2cd2-46f6-81d4-6980f9012657",
   "metadata": {
    "scrolled": true
   },
   "outputs": [
    {
     "name": "stdout",
     "output_type": "stream",
     "text": [
      "Original Array:\n",
      " [[0.40220167 0.85573241 0.67769953 0.07595489 0.90257046]\n",
      " [0.55421268 0.59890021 0.57799974 0.07342465 0.27420871]\n",
      " [0.62673556 0.70468794 0.34210057 0.19660481 0.27378914]\n",
      " [0.7843327  0.56418443 0.41737069 0.40393942 0.14171333]\n",
      " [0.03218023 0.83913044 0.10025101 0.02429612 0.48927271]]\n",
      "\n",
      "Normalized Array:\n",
      " [[-0.12956533  1.54274695  0.88628304 -1.33254112  1.71545378]\n",
      " [ 0.43094767  0.59572485  0.51865816 -1.34187093 -0.60151615]\n",
      " [ 0.69836264  0.98579788 -0.35117725 -0.88766646 -0.60306323]\n",
      " [ 1.27947347  0.46771669 -0.07363232 -0.12315771 -1.09006884]\n",
      " [-1.49395224  1.48153019 -1.24295359 -1.52302347  0.19149333]]\n"
     ]
    }
   ],
   "source": [
    "# Import necessary library\n",
    "import numpy as np\n",
    "\n",
    "#  Create a random 5x5 ndarray and store it in variable X\n",
    "X = np.random.rand(5, 5)  # Creates a 5x5 array with random values between 0 and 1\n",
    "\n",
    "# Step 2: Calculate the mean and standard deviation of the array\n",
    "mean = X.mean()\n",
    "std_dev = X.std()\n",
    "\n",
    "# Step 3: Normalize X using the Z-score formula\n",
    "X_normalized = (X - mean) / std_dev\n",
    "\n",
    "# Step 4: Save the normalized array as X_normalized.npy\n",
    "np.save('X_normalized.npy', X_normalized)\n",
    "\n",
    "# Display the original and normalized arrays\n",
    "print(\"Original Array:\\n\", X)\n",
    "print(\"\\nNormalized Array:\\n\", X_normalized)"
   ]
  },
  {
   "cell_type": "code",
   "execution_count": 13,
   "id": "c2a0a6ee-2ed0-4039-8017-a30092f9767d",
   "metadata": {},
   "outputs": [
    {
     "data": {
      "text/plain": [
       "array([[-0.12956533,  1.54274695,  0.88628304, -1.33254112,  1.71545378],\n",
       "       [ 0.43094767,  0.59572485,  0.51865816, -1.34187093, -0.60151615],\n",
       "       [ 0.69836264,  0.98579788, -0.35117725, -0.88766646, -0.60306323],\n",
       "       [ 1.27947347,  0.46771669, -0.07363232, -0.12315771, -1.09006884],\n",
       "       [-1.49395224,  1.48153019, -1.24295359, -1.52302347,  0.19149333]])"
      ]
     },
     "execution_count": 13,
     "metadata": {},
     "output_type": "execute_result"
    }
   ],
   "source": [
    "#Loads the 'X_normalized.npy' file for verification purposes\n",
    "np.load('X_normalized.npy')"
   ]
  },
  {
   "cell_type": "markdown",
   "id": "2b6d9189-d5d1-4f90-aa1c-e5acc76a7136",
   "metadata": {},
   "source": [
    "## DIVISIBLE BY 3 PROBLEM: Create the following 10 x 10 ndarray.\n",
    "which are the squares of the first 100 positive integers.\r\n",
    "From this ndarray, determine all the elements that are divisible by 32X\r\n"
   ]
  },
  {
   "cell_type": "code",
   "execution_count": 5,
   "id": "7f0d2de6-937c-4a54-b58a-f0b403a99544",
   "metadata": {
    "scrolled": true
   },
   "outputs": [
    {
     "name": "stdout",
     "output_type": "stream",
     "text": [
      "10x10 Array of Squares:\n",
      " [[    1     4     9    16    25    36    49    64    81   100]\n",
      " [  121   144   169   196   225   256   289   324   361   400]\n",
      " [  441   484   529   576   625   676   729   784   841   900]\n",
      " [  961  1024  1089  1156  1225  1296  1369  1444  1521  1600]\n",
      " [ 1681  1764  1849  1936  2025  2116  2209  2304  2401  2500]\n",
      " [ 2601  2704  2809  2916  3025  3136  3249  3364  3481  3600]\n",
      " [ 3721  3844  3969  4096  4225  4356  4489  4624  4761  4900]\n",
      " [ 5041  5184  5329  5476  5625  5776  5929  6084  6241  6400]\n",
      " [ 6561  6724  6889  7056  7225  7396  7569  7744  7921  8100]\n",
      " [ 8281  8464  8649  8836  9025  9216  9409  9604  9801 10000]]\n",
      "\n",
      "Elements Divisible by 3:\n",
      " [   9   36   81  144  225  324  441  576  729  900 1089 1296 1521 1764\n",
      " 2025 2304 2601 2916 3249 3600 3969 4356 4761 5184 5625 6084 6561 7056\n",
      " 7569 8100 8649 9216 9801]\n"
     ]
    }
   ],
   "source": [
    "# Import necessary library\n",
    "import numpy as np\n",
    "\n",
    "# Step 1: Create an array of the first 100 positive integers and square them\n",
    "numbers = np.arange(1, 101)  # Array of integers from 1 to 100\n",
    "squares = numbers ** 2       # Square each element\n",
    "\n",
    "# Step 2: Reshape the array into a 10x10 ndarray\n",
    "A = squares.reshape(10, 10)\n",
    "\n",
    "# Step 3: Find all elements in the array that are divisible by 3\n",
    "divisible_by_3 = A[A % 3 == 0]\n",
    "\n",
    "# Step 4: Save the result as div_by_3.npy\n",
    "np.save('div_by_3.npy', divisible_by_3)\n",
    "\n",
    "# Display the original array and elements divisible by 3\n",
    "print(\"10x10 Array of Squares:\\n\", A)\n",
    "print(\"\\nElements Divisible by 3:\\n\", divisible_by_3)"
   ]
  },
  {
   "cell_type": "code",
   "execution_count": 9,
   "id": "18062d1d-dd34-452b-a6f9-d835ddc4ff04",
   "metadata": {},
   "outputs": [
    {
     "data": {
      "text/plain": [
       "array([   9,   36,   81,  144,  225,  324,  441,  576,  729,  900, 1089,\n",
       "       1296, 1521, 1764, 2025, 2304, 2601, 2916, 3249, 3600, 3969, 4356,\n",
       "       4761, 5184, 5625, 6084, 6561, 7056, 7569, 8100, 8649, 9216, 9801])"
      ]
     },
     "execution_count": 9,
     "metadata": {},
     "output_type": "execute_result"
    }
   ],
   "source": [
    "#loads the div by 3.npy to verify the answers\n",
    "np.load('div_by_3.npy')"
   ]
  },
  {
   "cell_type": "code",
   "execution_count": null,
   "id": "704a1069-d79f-4c13-be49-672e9beff948",
   "metadata": {},
   "outputs": [],
   "source": []
  },
  {
   "cell_type": "code",
   "execution_count": null,
   "id": "9e6380d0-08ab-4945-be2d-682907cbec9e",
   "metadata": {},
   "outputs": [],
   "source": []
  }
 ],
 "metadata": {
  "kernelspec": {
   "display_name": "Python 3 (ipykernel)",
   "language": "python",
   "name": "python3"
  },
  "language_info": {
   "codemirror_mode": {
    "name": "ipython",
    "version": 3
   },
   "file_extension": ".py",
   "mimetype": "text/x-python",
   "name": "python",
   "nbconvert_exporter": "python",
   "pygments_lexer": "ipython3",
   "version": "3.12.4"
  }
 },
 "nbformat": 4,
 "nbformat_minor": 5
}
